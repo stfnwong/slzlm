{
 "cells": [
  {
   "cell_type": "markdown",
   "id": "1abec157",
   "metadata": {},
   "source": [
    "# LZW Encoding\n",
    "\n",
    "This notebook shows the use of the `lzw_encode` and `lzw_decode` methods in `slz`. There is both a functional implementation and an object-oriented (stateful) implementation.\n",
    "\n",
    "\n",
    "### Encoding\n",
    "The encoding function `lzw_decode` has the following signature\n",
    "\n",
    "\n",
    "```python\n",
    "def lzw_encode(input: Union[str, bytes]) -> str:\n",
    "```\n",
    "\n",
    "In reality, the `str` return is really just a byte stream returned from the encoder. It almost always makes sense to do `b = lzw_encode(data).encode(\"utf-8\")`. The reason the return type is `str` rather than `bytes` is to do with how bytes work in Python and what is possible with `pybind11`. See for example [https://github.com/pybind/pybind11/issues/1236]. \n",
    "\n",
    "The signature in the underlying implementation is \n",
    "\n",
    "```c++\n",
    "std::stringstream lzw_encode(const std::string_view input);\n",
    "```"
   ]
  },
  {
   "cell_type": "markdown",
   "id": "43099d3e",
   "metadata": {},
   "source": [
    "## Encoding format.\n",
    "\n",
    "The output of the encoder is a byte stream containing the compressed bytes. To be able to recover the stream information correctly when decoding some header information is prepended to the data. The data stream consists of\n",
    "symbols that vary in size from 2-4 bytes per symbol. At the start of the stream all symbols are 2 bytes. As the prefix tree gets longer it becomes possible to gain more compression by using a larger symbol that represents a longer prefix. At some point the stream will contain symbols that are all 3 bytes long, and then even later all symbols will be 4 bytes long. When decoding the stream we need to know at which point the size of the symbols changes. We encode this information in a 12 byte header at the start of the stream\n",
    "\n",
    "The header format is \n",
    "\n",
    "- (4 bytes) - offset in stream where the first 24-bit code is. If this is zero there are no 24-bit codes\n",
    "- (4 bytes) - offset in stream where the first 32-bit code is. If this is zero there are no 32-bit codes.\n",
    "- (4 bytes) - total number of codes in the stream.\n",
    "\n",
    "The byte at offset 12 is the first byte in the data stream and is part of a 2-byte symbol."
   ]
  },
  {
   "cell_type": "code",
   "execution_count": 2,
   "id": "3cce314c",
   "metadata": {},
   "outputs": [
    {
     "ename": "ModuleNotFoundError",
     "evalue": "No module named 'slz'",
     "output_type": "error",
     "traceback": [
      "\u001b[0;31m---------------------------------------------------------------------------\u001b[0m",
      "\u001b[0;31mModuleNotFoundError\u001b[0m                       Traceback (most recent call last)",
      "Cell \u001b[0;32mIn[2], line 1\u001b[0m\n\u001b[0;32m----> 1\u001b[0m \u001b[38;5;28;01mfrom\u001b[39;00m \u001b[38;5;21;01mslz\u001b[39;00m \u001b[38;5;28;01mimport\u001b[39;00m lzw_encode      \u001b[38;5;66;03m# import the functional encoder\u001b[39;00m\n\u001b[1;32m      3\u001b[0m \u001b[38;5;66;03m# We start with the example from the unit test \u001b[39;00m\n",
      "\u001b[0;31mModuleNotFoundError\u001b[0m: No module named 'slz'"
     ]
    }
   ],
   "source": [
    "from slz import lzw_encode      # import the functional encoder\n",
    "\n",
    "# We start with the example from the unit test "
   ]
  },
  {
   "cell_type": "markdown",
   "id": "480477f8",
   "metadata": {},
   "source": [
    "### Encoding a stream from a file \n",
    "\n",
    "To avoid getting psy-op'd on copyright issues we use the collected works of Shakespear from Project Gutenberg."
   ]
  },
  {
   "cell_type": "code",
   "execution_count": null,
   "id": "7ecceb0d",
   "metadata": {},
   "outputs": [],
   "source": [
    "input_filename = \"test/shakespear.txt\"\n",
    "\n",
    "with open(input_filename, \"r\") as fp:\n",
    "    text = fp.read()\n",
    "    \n",
    "print(text[:128])"
   ]
  }
 ],
 "metadata": {
  "kernelspec": {
   "display_name": "Python 3 (ipykernel)",
   "language": "python",
   "name": "python3"
  },
  "language_info": {
   "codemirror_mode": {
    "name": "ipython",
    "version": 3
   },
   "file_extension": ".py",
   "mimetype": "text/x-python",
   "name": "python",
   "nbconvert_exporter": "python",
   "pygments_lexer": "ipython3",
   "version": "3.11.3"
  }
 },
 "nbformat": 4,
 "nbformat_minor": 5
}
